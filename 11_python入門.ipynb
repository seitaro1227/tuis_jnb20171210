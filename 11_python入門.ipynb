{
 "cells": [
  {
   "cell_type": "markdown",
   "metadata": {},
   "source": [
    "### JupiterNotebookの便利な使い方"
   ]
  },
  {
   "cell_type": "code",
   "execution_count": 18,
   "metadata": {},
   "outputs": [],
   "source": [
    "# これはセルと呼びます"
   ]
  },
  {
   "cell_type": "code",
   "execution_count": 19,
   "metadata": {},
   "outputs": [
    {
     "data": {
      "text/plain": [
       "1"
      ]
     },
     "execution_count": 19,
     "metadata": {},
     "output_type": "execute_result"
    }
   ],
   "source": [
    "# 最後に評価した文を表示できます\n",
    "a = 1\n",
    "a"
   ]
  },
  {
   "cell_type": "code",
   "execution_count": 22,
   "metadata": {},
   "outputs": [
    {
     "data": {
      "text/plain": [
       "(1, 'hello', 3.14)"
      ]
     },
     "execution_count": 22,
     "metadata": {},
     "output_type": "execute_result"
    }
   ],
   "source": [
    "# タプルを返すと複数の値を確認したりできます。\n",
    "# 以前実行したcellの結果も使えます。\n",
    "b = \"hello\"\n",
    "c = 3.14\n",
    "(a, b, c)"
   ]
  },
  {
   "cell_type": "code",
   "execution_count": 23,
   "metadata": {
    "scrolled": true
   },
   "outputs": [
    {
     "data": {
      "text/plain": [
       "(int, str, float)"
      ]
     },
     "execution_count": 23,
     "metadata": {},
     "output_type": "execute_result"
    }
   ],
   "source": [
    "# インスタンス.__class__とするとインスタンスのクラス型が分かります。\n",
    "(a.__class__, b.__class__, c.__class__)"
   ]
  },
  {
   "cell_type": "markdown",
   "metadata": {},
   "source": [
    "マークダウン形式のメモも使えます\n",
    "\n",
    "------\n"
   ]
  },
  {
   "cell_type": "markdown",
   "metadata": {},
   "source": [
    "### 構文\n",
    "- Hello world!\n",
    "- コメント(#)\n",
    "- インデント"
   ]
  },
  {
   "cell_type": "code",
   "execution_count": 2,
   "metadata": {
    "scrolled": true
   },
   "outputs": [
    {
     "name": "stdout",
     "output_type": "stream",
     "text": [
      "hello world\n"
     ]
    }
   ],
   "source": [
    "print(\"hello world\")"
   ]
  },
  {
   "cell_type": "code",
   "execution_count": 3,
   "metadata": {},
   "outputs": [
    {
     "name": "stdout",
     "output_type": "stream",
     "text": [
      "hello world\n"
     ]
    }
   ],
   "source": [
    "# コメントです。\n",
    "# JupiterNotebookではcmd+/で入力できます。\n",
    "print(\"hello world\")"
   ]
  },
  {
   "cell_type": "code",
   "execution_count": 5,
   "metadata": {},
   "outputs": [
    {
     "name": "stdout",
     "output_type": "stream",
     "text": [
      "True\n"
     ]
    }
   ],
   "source": [
    "# インデント\n",
    "# pythonではfor や if ではカッコを使わずインデントで構造を表現します。\n",
    "# JupiterNotebookではfor、if、defなどで勝手にインデントを入れてくれるようです。\n",
    "if True:\n",
    "    print('True')\n",
    "else:\n",
    "    print('False')        "
   ]
  },
  {
   "cell_type": "markdown",
   "metadata": {},
   "source": [
    "#### 文や式についての説明\n",
    "https://docs.python.jp/3/reference/simple_stmts.html\n",
    "\n",
    "http://magazine.rubyist.net/?0039-ExpressionAndStatement#l4"
   ]
  },
  {
   "cell_type": "markdown",
   "metadata": {},
   "source": [
    "---"
   ]
  },
  {
   "cell_type": "markdown",
   "metadata": {},
   "source": [
    "### 基本的なデータ型\n",
    "- 整数(int)\n",
    "- 浮動小数点数(float)\n",
    "- 論理値(bool)\n",
    "- 文字列(str)"
   ]
  },
  {
   "cell_type": "code",
   "execution_count": 28,
   "metadata": {},
   "outputs": [
    {
     "data": {
      "text/plain": [
       "(int, 1)"
      ]
     },
     "execution_count": 28,
     "metadata": {},
     "output_type": "execute_result"
    }
   ],
   "source": [
    "# 整数\n",
    "num = 1\n",
    "(num.__class__, num)"
   ]
  },
  {
   "cell_type": "code",
   "execution_count": 29,
   "metadata": {},
   "outputs": [
    {
     "data": {
      "text/plain": [
       "(int, 340282366920938463463374607431768211456)"
      ]
     },
     "execution_count": 29,
     "metadata": {},
     "output_type": "execute_result"
    }
   ],
   "source": [
    "# 大きい数もintです\n",
    "# javaだと32bitまで\n",
    "big_num = 2 ** 128 \n",
    "(big_num.__class__, big_num)"
   ]
  },
  {
   "cell_type": "code",
   "execution_count": 12,
   "metadata": {},
   "outputs": [
    {
     "data": {
      "text/plain": [
       "(511, 31, 196)"
      ]
     },
     "execution_count": 12,
     "metadata": {},
     "output_type": "execute_result"
    }
   ],
   "source": [
    "# 10進数表記の他に8進数,16進数, 2進数\n",
    "oct = 0o777        #  8進数 (0oで始まる数値は 8進数とみなされる)\n",
    "hex = 0x1f       # 16進数 (0xで始まる数値は16進数とみなされる)\n",
    "bin = 0b11000100   #  2進数 (0bで始まる数値は 2進数とみなされる)\n",
    "(oct,hex,bin)"
   ]
  },
  {
   "cell_type": "code",
   "execution_count": 31,
   "metadata": {},
   "outputs": [
    {
     "name": "stdout",
     "output_type": "stream",
     "text": [
      "Hello\n",
      "<class 'str'>\n",
      "Hello\n",
      "<class 'str'>\n",
      "seitaro's Macbook\n",
      "seitaro's Macbook\n"
     ]
    }
   ],
   "source": [
    "# str\n",
    "hello = \"Hello\"\n",
    "print(hello)\n",
    "print(\"hello\".__class__)\n",
    "\n",
    "# シングルクォーテーションでも同じ\n",
    "# 厳密にはエスケープがちょっと違う\n",
    "hello = 'Hello'\n",
    "print(hello)\n",
    "print(\"hello\".__class__)\n",
    "\n",
    "print('seitaro\\'s Macbook')\n",
    "# ダブルクォーテーション文字列の中ではシングルクォーテーションをエスケープなしで書ける\n",
    "print(\"seitaro's Macbook\")"
   ]
  },
  {
   "cell_type": "code",
   "execution_count": 33,
   "metadata": {},
   "outputs": [
    {
     "name": "stdout",
     "output_type": "stream",
     "text": [
      "True\n",
      "False\n",
      "True\n"
     ]
    }
   ],
   "source": [
    "# bool\n",
    "print(True)\n",
    "print(False)\n",
    "print(1==1)"
   ]
  },
  {
   "cell_type": "code",
   "execution_count": 34,
   "metadata": {},
   "outputs": [],
   "source": [
    "# None\n",
    "# javaでいうとこのNull\n",
    "None"
   ]
  },
  {
   "cell_type": "markdown",
   "metadata": {},
   "source": [
    "---"
   ]
  },
  {
   "cell_type": "markdown",
   "metadata": {},
   "source": [
    "### 変数・定数\n",
    "- 変数\n",
    "- 定数\n",
    "- ドキュメントストリング(__doc__)"
   ]
  },
  {
   "cell_type": "code",
   "execution_count": 35,
   "metadata": {},
   "outputs": [],
   "source": [
    "# 変数名で使用可能な文字列は[a-z,A-Z,_,0-9]\n",
    "# 先頭は数字以外です\n",
    "book = \"スラスラわかるPython\"\n",
    "Book = \"Pythonエンジニア ファーストブック\"\n",
    "_name = \"なまえ\""
   ]
  },
  {
   "cell_type": "code",
   "execution_count": 37,
   "metadata": {},
   "outputs": [],
   "source": [
    "# 定数はありません。\n",
    "# 先頭が大文字の変数を定数として扱うような文化です。\n",
    "PI = 3.14\n",
    "# private変数もありません。\n",
    "# 先頭が_から始まる変数をprivateとして扱うような文化です。\n",
    "_key = \"何かの鍵情報\""
   ]
  },
  {
   "cell_type": "markdown",
   "metadata": {},
   "source": [
    "#### ドキュメントストリング(doc)\n",
    "class を作ったり少し大きいものを作ったリするときに知っていると役に立ちます。\n",
    "\n",
    "http://www.tohoho-web.com/python/variables.html#docstring"
   ]
  },
  {
   "cell_type": "markdown",
   "metadata": {},
   "source": [
    "---"
   ]
  },
  {
   "cell_type": "markdown",
   "metadata": {},
   "source": [
    "### list・タプル・辞書・set\n",
    "- リスト(list)\n",
    "- タプル(tuple)\n",
    "- 辞書(dict)\n",
    "- セット(set)"
   ]
  },
  {
   "cell_type": "code",
   "execution_count": 80,
   "metadata": {},
   "outputs": [
    {
     "name": "stdout",
     "output_type": "stream",
     "text": [
      "[0, 1, 2, 3, 'a', 'b', 'c', 3.14]\n",
      "0\n",
      "1\n",
      "2\n",
      "3\n",
      "a\n",
      "b\n",
      "c\n",
      "3.14\n",
      "[2]でindexアクセスできます\n",
      "2\n",
      "最後から2番目のitemは\n",
      "c\n",
      "[2][4]の間のitemは\n",
      "[2, 3]\n",
      "listの長さは\n",
      "8\n"
     ]
    }
   ],
   "source": [
    "# list\n",
    "list = [0,1,2,3,'a','b','c', 3.14]\n",
    "print(list)\n",
    "# 順序付です\n",
    "for item in list:\n",
    "    print(item)\n",
    "\n",
    "# indexアクセスできます\n",
    "print(\"[2]でindexアクセスできます\")\n",
    "print(list[2])\n",
    "# 最後から2番目のitemは\n",
    "print(\"最後から2番目のitemは\")\n",
    "print(list[-2])\n",
    "\n",
    "print(\"[2][4]の間のitemは\")\n",
    "print(list[2:4])\n",
    "\n",
    "print(\"listの長さは\")\n",
    "print(len(list))"
   ]
  },
  {
   "cell_type": "code",
   "execution_count": 61,
   "metadata": {},
   "outputs": [
    {
     "name": "stdout",
     "output_type": "stream",
     "text": [
      "indexアクセス\n",
      "['A', 'B', 'C', 'E', 'D']\n",
      "['a', 'B', 'C', 'E', 'd']\n",
      "rengeアクセス\n",
      "['A', 'B', 'C', 'E', 'D']\n",
      "['A', 'b', 'c', 'E', 'D']\n",
      "del文で破壊的削除\n",
      "['a', 'b', 'c', 'd', 'e']\n",
      "['a', 'c', 'd', 'e']\n",
      "popでindexを指定して破壊的削除\n",
      "['a', 'b', 'c', 'd', 'e']\n",
      "['a', 'c', 'd', 'e']\n",
      "removeでitemを指定して破壊的削除\n",
      "['a', 'b', 'c', 'd', 'e']\n",
      "['a', 'b', 'c', 'e']\n"
     ]
    }
   ],
   "source": [
    "# アイテムの追加\n",
    "print(\"indexアクセス\")\n",
    "list = \"A B C E D\".split()\n",
    "print(list)\n",
    "list[0] = 'a'\n",
    "list[-1] = 'd'\n",
    "print(list)\n",
    "\n",
    "print(\"rengeアクセス\")\n",
    "list = \"A B C E D\".split()\n",
    "print(list)\n",
    "list[1:3] = [\"b\", \"c\"]\n",
    "print(list)\n",
    "\n",
    "# アイテムの削除\n",
    "list = \"a b c d e\".split()\n",
    "list\n",
    "print(\"del文で破壊的削除\")\n",
    "print(list)\n",
    "del list[1:2]\n",
    "print(list)\n",
    "\n",
    "print(\"popでindexを指定して破壊的削除\")\n",
    "list = \"a b c d e\".split()\n",
    "print(list)\n",
    "list.pop(1)\n",
    "print(list)\n",
    "\n",
    "\n",
    "print(\"removeでitemを指定して破壊的削除\")\n",
    "list = \"a b c d e\".split()\n",
    "print(list)\n",
    "list.remove('d')\n",
    "print(list)"
   ]
  },
  {
   "cell_type": "code",
   "execution_count": 67,
   "metadata": {},
   "outputs": [
    {
     "name": "stdout",
     "output_type": "stream",
     "text": [
      "(1, 2, 3)\n",
      "※余談\n",
      "pythonでは多項代入できます\n",
      "1\n",
      "2\n",
      "3\n"
     ]
    }
   ],
   "source": [
    "# タプル\n",
    "# 普遍です\n",
    "# 一度作るとlistみたいに編集できません。\n",
    "# これを戻り値として返せるのでなんと引数を2つ返せます。\n",
    "\n",
    "t = (1,2,3)\n",
    "print(t)\n",
    "\n",
    "print(\"※余談\")\n",
    "print(\"pythonでは多項代入できます\")\n",
    "t1,t2,t3 = (1,2,3)\n",
    "print(t1)\n",
    "print(t2)\n",
    "print(t3)"
   ]
  },
  {
   "cell_type": "code",
   "execution_count": 72,
   "metadata": {},
   "outputs": [
    {
     "name": "stdout",
     "output_type": "stream",
     "text": [
      "apple\n",
      "not_found\n"
     ]
    }
   ],
   "source": [
    "#辞書\n",
    "# javaでいうとことのHashMapです\n",
    "# objectをkeyにしてvalueを引けます。\n",
    "# listのラベル版\n",
    "# 順番は保証されません。\n",
    "# つまり入れた順番と出す順番が必ずしも一致しないです。\n",
    "dict = {'a': 'apple','b': 'banana', 'c': 'cc_lemon'}\n",
    "print(\"\")\n",
    "print(dict['a'])\n",
    "print(dict.get('d','not_found'))"
   ]
  },
  {
   "cell_type": "markdown",
   "metadata": {},
   "source": [
    "### 演算子\n",
    "- 代数演算子(+, -, *, /, %, **, //)\n",
    "- 比較演算子(==, !=, <, >, <=, >=, <=>, ===)\n",
    "- ブール演算子(and, or, not)"
   ]
  },
  {
   "cell_type": "code",
   "execution_count": 73,
   "metadata": {},
   "outputs": [],
   "source": [
    "# javaとほとんど同じなのでskip"
   ]
  },
  {
   "cell_type": "markdown",
   "metadata": {},
   "source": [
    "### 文字列処理\n",
    "- 文字列演算(+, *, [n:m])\n",
    "- 正規表現"
   ]
  },
  {
   "cell_type": "code",
   "execution_count": 84,
   "metadata": {},
   "outputs": [
    {
     "name": "stdout",
     "output_type": "stream",
     "text": [
      "文字列連結\n",
      "aABCDE\n",
      "繰り返し\n",
      "aaa\n",
      "部分取得\n",
      "C\n",
      "CDE\n",
      "文字列の長さ\n",
      "5\n",
      "文字列が含まれるか\n",
      "False\n",
      "True\n"
     ]
    }
   ],
   "source": [
    "# 文字列演算(+, *, [n:m])\n",
    "a = 'a'\n",
    "b = 'ABCDE'\n",
    "print('文字列連結')\n",
    "print(a + b)\n",
    "print('繰り返し')\n",
    "print(a*3)\n",
    "\n",
    "print('部分取得')\n",
    "print(b[2])\n",
    "print(b[2:5])\n",
    "print('文字列の長さ')\n",
    "print(len(b))\n",
    "\n",
    "print('文字列が含まれるか')\n",
    "print('A' in a)\n",
    "print('A' in b)\n"
   ]
  },
  {
   "cell_type": "markdown",
   "metadata": {},
   "source": [
    "### 制御構文\n",
    "- 条件分岐(if, else, elif)\n",
    "- loop (for, in)\n",
    "- indexを使ったloop\n",
    "\t- for i, v in enumerate(['tic', 'tac', 'toe']):"
   ]
  },
  {
   "cell_type": "code",
   "execution_count": 89,
   "metadata": {},
   "outputs": [
    {
     "name": "stdout",
     "output_type": "stream",
     "text": [
      "B\n"
     ]
    }
   ],
   "source": [
    "# - 条件分岐(if, else, elif)\n",
    "a = 1\n",
    "if a > 2:\n",
    "    print(\"A\")\n",
    "elif a==1:\n",
    "    print(\"B\")\n",
    "else:\n",
    "    print(\"C\")\n"
   ]
  },
  {
   "cell_type": "code",
   "execution_count": 96,
   "metadata": {},
   "outputs": [
    {
     "name": "stdout",
     "output_type": "stream",
     "text": [
      "10\n",
      "A\n",
      "B\n",
      "C\n",
      "D\n",
      "E\n",
      "F\n",
      "G\n",
      "H\n",
      "I\n",
      "J\n"
     ]
    }
   ],
   "source": [
    "# foreach\n",
    "list = \"A B C D E F G H I J\".split()\n",
    "print(len(list))\n",
    "for item in list:\n",
    "    print(item)"
   ]
  },
  {
   "cell_type": "code",
   "execution_count": 104,
   "metadata": {},
   "outputs": [
    {
     "name": "stdout",
     "output_type": "stream",
     "text": [
      "['A', 'B', 'C', 'D', 'E', 'F', 'G', 'H', 'I', 'J']\n",
      "0:A\n",
      "1:B\n",
      "2:C\n",
      "3:D\n",
      "4:E\n",
      "5:F\n",
      "6:G\n",
      "7:H\n",
      "8:I\n",
      "9:J\n"
     ]
    }
   ],
   "source": [
    "# - indexを使ったloop\n",
    "# \t- for i, v in enumerate(['tic', 'tac', 'toe']):\n",
    "\n",
    "list = \"A B C D E F G H I J\".split()\n",
    "print(list)\n",
    "for index,item in enumerate(list):\n",
    "    print(str(index) + ':' + item)"
   ]
  },
  {
   "cell_type": "markdown",
   "metadata": {},
   "source": [
    "### 関数\n",
    "- 関数(def)\n",
    "- ラムダ式(lambda)"
   ]
  },
  {
   "cell_type": "code",
   "execution_count": 108,
   "metadata": {},
   "outputs": [],
   "source": [
    "# 関数(def)\n",
    "def hello(subject):\n",
    "    print('hello '+ str(subject))\n",
    "# この時点ではprintされない"
   ]
  },
  {
   "cell_type": "code",
   "execution_count": 109,
   "metadata": {},
   "outputs": [
    {
     "name": "stdout",
     "output_type": "stream",
     "text": [
      "hello world\n"
     ]
    }
   ],
   "source": [
    "hello('world')"
   ]
  },
  {
   "cell_type": "code",
   "execution_count": 110,
   "metadata": {},
   "outputs": [],
   "source": [
    "# このように処理をまとめることができる"
   ]
  },
  {
   "cell_type": "code",
   "execution_count": 111,
   "metadata": {},
   "outputs": [],
   "source": [
    "def squre(line):\n",
    "    return line**2"
   ]
  },
  {
   "cell_type": "code",
   "execution_count": 112,
   "metadata": {},
   "outputs": [
    {
     "data": {
      "text/plain": [
       "4"
      ]
     },
     "execution_count": 112,
     "metadata": {},
     "output_type": "execute_result"
    }
   ],
   "source": [
    "squre(2)"
   ]
  },
  {
   "cell_type": "code",
   "execution_count": 116,
   "metadata": {},
   "outputs": [],
   "source": [
    "# 1行で関数を書いている\n",
    "# 関数は式なので変数に入れられる\n",
    "to_squre = lambda x: x**2"
   ]
  },
  {
   "cell_type": "code",
   "execution_count": 117,
   "metadata": {},
   "outputs": [
    {
     "data": {
      "text/plain": [
       "4"
      ]
     },
     "execution_count": 117,
     "metadata": {},
     "output_type": "execute_result"
    }
   ],
   "source": [
    "to_squre(2)"
   ]
  },
  {
   "cell_type": "code",
   "execution_count": 118,
   "metadata": {},
   "outputs": [
    {
     "ename": "TypeError",
     "evalue": "unsupported operand type(s) for ** or pow(): 'str' and 'int'",
     "output_type": "error",
     "traceback": [
      "\u001b[0;31m---------------------------------------------------------------------------\u001b[0m",
      "\u001b[0;31mTypeError\u001b[0m                                 Traceback (most recent call last)",
      "\u001b[0;32m<ipython-input-118-200d1002d764>\u001b[0m in \u001b[0;36m<module>\u001b[0;34m()\u001b[0m\n\u001b[0;32m----> 1\u001b[0;31m \u001b[0mto_squre\u001b[0m\u001b[0;34m(\u001b[0m\u001b[0;34m'a'\u001b[0m\u001b[0;34m)\u001b[0m\u001b[0;34m\u001b[0m\u001b[0m\n\u001b[0m",
      "\u001b[0;32m<ipython-input-116-fece76567257>\u001b[0m in \u001b[0;36m<lambda>\u001b[0;34m(x)\u001b[0m\n\u001b[1;32m      1\u001b[0m \u001b[0;31m# 1行で関数を書いている\u001b[0m\u001b[0;34m\u001b[0m\u001b[0;34m\u001b[0m\u001b[0m\n\u001b[1;32m      2\u001b[0m \u001b[0;31m# 関数は式なので変数に入れられる\u001b[0m\u001b[0;34m\u001b[0m\u001b[0;34m\u001b[0m\u001b[0m\n\u001b[0;32m----> 3\u001b[0;31m \u001b[0mto_squre\u001b[0m \u001b[0;34m=\u001b[0m \u001b[0;32mlambda\u001b[0m \u001b[0mx\u001b[0m\u001b[0;34m:\u001b[0m \u001b[0mx\u001b[0m\u001b[0;34m**\u001b[0m\u001b[0;36m2\u001b[0m\u001b[0;34m\u001b[0m\u001b[0m\n\u001b[0m",
      "\u001b[0;31mTypeError\u001b[0m: unsupported operand type(s) for ** or pow(): 'str' and 'int'"
     ]
    }
   ],
   "source": [
    "# これはエラーになる\n",
    "to_squre('a')"
   ]
  },
  {
   "cell_type": "code",
   "execution_count": 119,
   "metadata": {},
   "outputs": [],
   "source": [
    "# pythonの引数は動的型付けなので、標準ではint以外も入れられていまう。\n",
    "# 　これが嫌な人はtypingでググると良いかも。"
   ]
  },
  {
   "cell_type": "code",
   "execution_count": null,
   "metadata": {},
   "outputs": [],
   "source": []
  }
 ],
 "metadata": {
  "kernelspec": {
   "display_name": "Python 3",
   "language": "python",
   "name": "python3"
  },
  "language_info": {
   "codemirror_mode": {
    "name": "ipython",
    "version": 3
   },
   "file_extension": ".py",
   "mimetype": "text/x-python",
   "name": "python",
   "nbconvert_exporter": "python",
   "pygments_lexer": "ipython3",
   "version": "3.6.2"
  }
 },
 "nbformat": 4,
 "nbformat_minor": 2
}
